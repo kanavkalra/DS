{
 "cells": [
  {
   "cell_type": "code",
   "execution_count": 1,
   "metadata": {},
   "outputs": [],
   "source": [
    "graph = { \"A\" : [\"B\", \"C\"],\n",
    "          \"B\" : [\"D\", \"E\", \"A\"],\n",
    "          \"C\" : [\"A\"],\n",
    "          \"D\" : [\"B\", \"E\"],\n",
    "          \"E\" : [\"B\", \"D\"]\n",
    "}"
   ]
  },
  {
   "cell_type": "code",
   "execution_count": 8,
   "metadata": {},
   "outputs": [
    {
     "name": "stdout",
     "output_type": "stream",
     "text": [
      "[('A', 'B'), ('A', 'C'), ('B', 'D'), ('B', 'E'), ('D', 'E')]\n"
     ]
    }
   ],
   "source": [
    "def edges(graph):\n",
    "    edges = []\n",
    "    for node in graph:\n",
    "        for neighbour in graph[node]:\n",
    "            if (neighbour, node) not in edges:\n",
    "                edges.append((node, neighbour))\n",
    " \n",
    "    return edges\n",
    " \n",
    "print(edges(graph))"
   ]
  },
  {
   "cell_type": "code",
   "execution_count": 35,
   "metadata": {},
   "outputs": [],
   "source": [
    "class Graph(object):\n",
    "    def __init__(self, graph=None):\n",
    "         if graph == None:\n",
    "             graph = {}\n",
    "         self.__graph = graph\n",
    "        \n",
    "    def add_node(self, node):\n",
    "        if node not in self.__graph:\n",
    "            self.__graph[node] = []\n",
    "        \n",
    "    def add_edge(self, edge):\n",
    "        edge = set(edge)\n",
    "        (node1, node2) = tuple(edge)\n",
    "        if node1 in self.__graph:\n",
    "            self.__graph[node1].append(node2)\n",
    "        else:\n",
    "            self.__graph[node1] = [node2]\n",
    "    \n",
    "    def nodes(self):\n",
    "        return list(self.__graph.keys())\n",
    " \n",
    "    def edges(self):\n",
    "        edges = []\n",
    "        for node in self.__graph:\n",
    "            for neighbour in self.__graph[node]:\n",
    "                if (neighbour, node) not in edges:\n",
    "                    edges.append((node, neighbour))\n",
    "        return edges\n",
    "        \n",
    "    def __str__(self):\n",
    "        res = \"nodes: \"\n",
    "        for node in self.nodes():\n",
    "            res += str(node) + \" \"\n",
    "        res += \"\\nedges: \"\n",
    "        for edge in self.edges():\n",
    "            res += str(edge) + \" \"\n",
    "        return res\n",
    "    \n",
    "    def find_path(self, start_node, end_node, path=None):\n",
    "        if path == None:\n",
    "            path = []\n",
    "        graph = self.__graph\n",
    "        path = path + [start_node]\n",
    "        if start_node == end_node:\n",
    "            return path\n",
    "        if start_node not in graph:\n",
    "            return None\n",
    "        for node in graph[start_node]:\n",
    "            if node not in path:\n",
    "                extended_path = self.find_path(node, \n",
    "                                               end_node, \n",
    "                                               path)\n",
    "                if extended_path: \n",
    "                    return extended_path\n",
    "        return None\n",
    "    \n",
    "    def find_all_paths(self, start_vertex, end_vertex, path=[]):\n",
    "        \"\"\" find all paths from start_vertex to \n",
    "            end_vertex in graph \"\"\"\n",
    "        graph = self.__graph \n",
    "        path = path + [start_vertex]\n",
    "        if start_vertex == end_vertex:\n",
    "            return [path]\n",
    "        if start_vertex not in graph:\n",
    "            return []\n",
    "        paths = []\n",
    "        for vertex in graph[start_vertex]:\n",
    "            if vertex not in path:\n",
    "                extended_paths = self.find_all_paths(vertex, \n",
    "                                                     end_vertex, \n",
    "                                                     path)\n",
    "                for p in extended_paths: \n",
    "                    paths.append(p)\n",
    "        return paths\n",
    "    "
   ]
  },
  {
   "cell_type": "code",
   "execution_count": 26,
   "metadata": {},
   "outputs": [],
   "source": [
    "graph = { \"A\" : [\"B\", \"C\"],\n",
    "          \"B\" : [\"D\", \"E\"],\n",
    "          \"C\" : [\"A\"],\n",
    "          \"D\" : [\"B\", \"E\"],\n",
    "          \"E\" : [\"B\", \"D\"]\n",
    "}\n",
    "g = Graph(graph)"
   ]
  },
  {
   "cell_type": "code",
   "execution_count": 27,
   "metadata": {},
   "outputs": [
    {
     "name": "stdout",
     "output_type": "stream",
     "text": [
      "nodes: A B C D E \n",
      "edges: ('A', 'B') ('A', 'C') ('B', 'D') ('B', 'E') ('D', 'E') \n"
     ]
    }
   ],
   "source": [
    "print(g)"
   ]
  },
  {
   "cell_type": "code",
   "execution_count": 28,
   "metadata": {},
   "outputs": [],
   "source": [
    "g.add_node('F')"
   ]
  },
  {
   "cell_type": "code",
   "execution_count": 29,
   "metadata": {},
   "outputs": [],
   "source": [
    "g.add_edge((\"C\",\"F\"))"
   ]
  },
  {
   "cell_type": "code",
   "execution_count": 30,
   "metadata": {},
   "outputs": [
    {
     "name": "stdout",
     "output_type": "stream",
     "text": [
      "nodes: A B C D E F \n",
      "edges: ('A', 'B') ('A', 'C') ('B', 'D') ('B', 'E') ('D', 'E') ('F', 'C') \n"
     ]
    }
   ],
   "source": [
    "print(g)"
   ]
  },
  {
   "cell_type": "code",
   "execution_count": 36,
   "metadata": {},
   "outputs": [
    {
     "name": "stdout",
     "output_type": "stream",
     "text": [
      "['A', 'B', 'D', 'E']\n"
     ]
    }
   ],
   "source": [
    "g = Graph(graph)\n",
    "path = g.find_path(\"A\",\"E\")\n",
    "print(path)"
   ]
  },
  {
   "cell_type": "code",
   "execution_count": 37,
   "metadata": {},
   "outputs": [
    {
     "name": "stdout",
     "output_type": "stream",
     "text": [
      "[['A', 'B', 'D', 'E'], ['A', 'B', 'E']]\n"
     ]
    }
   ],
   "source": [
    "paths = g.find_all_paths(\"A\",\"E\")\n",
    "print(paths)"
   ]
  },
  {
   "cell_type": "code",
   "execution_count": null,
   "metadata": {},
   "outputs": [],
   "source": []
  }
 ],
 "metadata": {
  "kernelspec": {
   "display_name": "Python 3",
   "language": "python",
   "name": "python3"
  },
  "language_info": {
   "codemirror_mode": {
    "name": "ipython",
    "version": 3
   },
   "file_extension": ".py",
   "mimetype": "text/x-python",
   "name": "python",
   "nbconvert_exporter": "python",
   "pygments_lexer": "ipython3",
   "version": "3.6.6"
  }
 },
 "nbformat": 4,
 "nbformat_minor": 2
}
